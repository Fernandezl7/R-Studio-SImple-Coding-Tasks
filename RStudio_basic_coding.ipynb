{
 "cells": [
  {
   "cell_type": "code",
   "execution_count": 228,
   "id": "5728d49a-dd0a-49cc-9739-c2812feb4a1f",
   "metadata": {},
   "outputs": [],
   "source": [
    "# 1.20 The built-in data set islands contains the size of the world’s land masses that exceed 10,000 square miles. Use sort() with the argument decreasing=TRUE tfind the seven largest land masses."
   ]
  },
  {
   "cell_type": "code",
   "execution_count": 229,
   "id": "3b138496-5bb5-4387-bc6e-a420bf794469",
   "metadata": {},
   "outputs": [
    {
     "data": {
      "text/html": [
       "<style>\n",
       ".dl-inline {width: auto; margin:0; padding: 0}\n",
       ".dl-inline>dt, .dl-inline>dd {float: none; width: auto; display: inline-block}\n",
       ".dl-inline>dt::after {content: \":\\0020\"; padding-right: .5ex}\n",
       ".dl-inline>dt:not(:first-of-type) {padding-left: .5ex}\n",
       "</style><dl class=dl-inline><dt>Asia</dt><dd>16988</dd><dt>Africa</dt><dd>11506</dd><dt>North America</dt><dd>9390</dd><dt>South America</dt><dd>6795</dd><dt>Antarctica</dt><dd>5500</dd><dt>Europe</dt><dd>3745</dd><dt>Australia</dt><dd>2968</dd></dl>\n"
      ],
      "text/latex": [
       "\\begin{description*}\n",
       "\\item[Asia] 16988\n",
       "\\item[Africa] 11506\n",
       "\\item[North America] 9390\n",
       "\\item[South America] 6795\n",
       "\\item[Antarctica] 5500\n",
       "\\item[Europe] 3745\n",
       "\\item[Australia] 2968\n",
       "\\end{description*}\n"
      ],
      "text/markdown": [
       "Asia\n",
       ":   16988Africa\n",
       ":   11506North America\n",
       ":   9390South America\n",
       ":   6795Antarctica\n",
       ":   5500Europe\n",
       ":   3745Australia\n",
       ":   2968\n",
       "\n"
      ],
      "text/plain": [
       "         Asia        Africa North America South America    Antarctica \n",
       "        16988         11506          9390          6795          5500 \n",
       "       Europe     Australia \n",
       "         3745          2968 "
      ]
     },
     "metadata": {},
     "output_type": "display_data"
    }
   ],
   "source": [
    "# Load the built-in dataset\n",
    "data(\"islands\")\n",
    "\n",
    "# Sort the data in decreasing order and select the top 7 largest land masses\n",
    "sort(islands, decreasing=TRUE)[1:7]"
   ]
  },
  {
   "cell_type": "code",
   "execution_count": 230,
   "id": "76e90608-0281-415f-b595-82d862ceeb28",
   "metadata": {},
   "outputs": [],
   "source": [
    "#1.21 Load the data set primes (UsingR). This is the set of prime numbers in[1,2003]. How many are there? How many in the range [1,100]? [100,1000]?"
   ]
  },
  {
   "cell_type": "code",
   "execution_count": 231,
   "id": "c14edd34-c629-4387-809c-82a8c5c29408",
   "metadata": {},
   "outputs": [
    {
     "name": "stdout",
     "output_type": "stream",
     "text": [
      "\n",
      "The downloaded binary packages are in\n",
      "\t/var/folders/4w/n3320jts62b9p22g1gw510gm0000gn/T//RtmpDlCH8t/downloaded_packages\n"
     ]
    }
   ],
   "source": [
    "install.packages(\"UsingR\")\n",
    "library(UsingR)"
   ]
  },
  {
   "cell_type": "code",
   "execution_count": 232,
   "id": "540a840b-5f33-44bc-bf63-83a6e137442a",
   "metadata": {},
   "outputs": [
    {
     "name": "stdout",
     "output_type": "stream",
     "text": [
      "[1] 304\n"
     ]
    }
   ],
   "source": [
    "data(primes)\n",
    "totalprimes=length(primes)\n",
    "print(totalprimes)"
   ]
  },
  {
   "cell_type": "code",
   "execution_count": 233,
   "id": "aeaa4699-5182-45be-b23f-580a0cd30b4f",
   "metadata": {},
   "outputs": [
    {
     "name": "stdout",
     "output_type": "stream",
     "text": [
      "[1] 304\n"
     ]
    }
   ],
   "source": [
    "primes1_2003=sum(primes<=2003)\n",
    "print(primes1_2003)"
   ]
  },
  {
   "cell_type": "code",
   "execution_count": 234,
   "id": "c7be5cd8-c9e8-41b7-8b80-5b45e0599623",
   "metadata": {},
   "outputs": [
    {
     "name": "stdout",
     "output_type": "stream",
     "text": [
      "[1] 25\n"
     ]
    }
   ],
   "source": [
    "primes1_100=sum(primes<=100)\n",
    "print(primes1_100)"
   ]
  },
  {
   "cell_type": "code",
   "execution_count": 235,
   "id": "3e050779-01a4-4686-80ba-d88533144594",
   "metadata": {},
   "outputs": [
    {
     "name": "stdout",
     "output_type": "stream",
     "text": [
      "[1] 143\n"
     ]
    }
   ],
   "source": [
    "primes100_1000=sum(primes>=100 & primes<=1000)\n",
    "print(primes100_1000)"
   ]
  },
  {
   "cell_type": "code",
   "execution_count": 236,
   "id": "f835e3b6-b467-41ae-9229-44a62d1dc4c7",
   "metadata": {},
   "outputs": [],
   "source": [
    "#1.22 Load the data set primes (UsingR). We wish to find all the twin primes. These are numbers p and p+2, where both are prime."
   ]
  },
  {
   "cell_type": "code",
   "execution_count": 237,
   "id": "9811544e-80d9-4172-910d-b39e1dc3c374",
   "metadata": {},
   "outputs": [],
   "source": [
    "#part 1"
   ]
  },
  {
   "cell_type": "code",
   "execution_count": 238,
   "id": "4cb2afe0-8d1d-4fda-8162-cdf85ad725d3",
   "metadata": {},
   "outputs": [],
   "source": [
    "#primes[-1] returns the primes vector without the negative element. in other words, the negative index will remove the element that was specified "
   ]
  },
  {
   "cell_type": "code",
   "execution_count": 239,
   "id": "4007e4dd-338c-47dc-b75d-1ecd6ffa92e5",
   "metadata": {},
   "outputs": [
    {
     "name": "stdout",
     "output_type": "stream",
     "text": [
      "  [1]    3    5    7   11   13   17   19   23   29   31   37   41   43   47   53\n",
      " [16]   59   61   67   71   73   79   83   89   97  101  103  107  109  113  127\n",
      " [31]  131  137  139  149  151  157  163  167  173  179  181  191  193  197  199\n",
      " [46]  211  223  227  229  233  239  241  251  257  263  269  271  277  281  283\n",
      " [61]  293  307  311  313  317  331  337  347  349  353  359  367  373  379  383\n",
      " [76]  389  397  401  409  419  421  431  433  439  443  449  457  461  463  467\n",
      " [91]  479  487  491  499  503  509  521  523  541  547  557  563  569  571  577\n",
      "[106]  587  593  599  601  607  613  617  619  631  641  643  647  653  659  661\n",
      "[121]  673  677  683  691  701  709  719  727  733  739  743  751  757  761  769\n",
      "[136]  773  787  797  809  811  821  823  827  829  839  853  857  859  863  877\n",
      "[151]  881  883  887  907  911  919  929  937  941  947  953  967  971  977  983\n",
      "[166]  991  997 1009 1013 1019 1021 1031 1033 1039 1049 1051 1061 1063 1069 1087\n",
      "[181] 1091 1093 1097 1103 1109 1117 1123 1129 1151 1153 1163 1171 1181 1187 1193\n",
      "[196] 1201 1213 1217 1223 1229 1231 1237 1249 1259 1277 1279 1283 1289 1291 1297\n",
      "[211] 1301 1303 1307 1319 1321 1327 1361 1367 1373 1381 1399 1409 1423 1427 1429\n",
      "[226] 1433 1439 1447 1451 1453 1459 1471 1481 1483 1487 1489 1493 1499 1511 1523\n",
      "[241] 1531 1543 1549 1553 1559 1567 1571 1579 1583 1597 1601 1607 1609 1613 1619\n",
      "[256] 1621 1627 1637 1657 1663 1667 1669 1693 1697 1699 1709 1721 1723 1733 1741\n",
      "[271] 1747 1753 1759 1777 1783 1787 1789 1801 1811 1823 1831 1847 1861 1867 1871\n",
      "[286] 1873 1877 1879 1889 1901 1907 1913 1931 1933 1949 1951 1973 1979 1987 1993\n",
      "[301] 1997 1999 2003\n"
     ]
    }
   ],
   "source": [
    "print(primes[-1])"
   ]
  },
  {
   "cell_type": "code",
   "execution_count": 240,
   "id": "f858b2b6-4655-4e0f-aaa3-48ad33716bbb",
   "metadata": {},
   "outputs": [],
   "source": [
    "#part 2"
   ]
  },
  {
   "cell_type": "code",
   "execution_count": 241,
   "id": "a7e09c4d-cede-446b-8235-87082800b788",
   "metadata": {},
   "outputs": [],
   "source": [
    "#if you set n=length(primes), primes[-n] will return the primes vector without the last element which is 2003 in this case"
   ]
  },
  {
   "cell_type": "code",
   "execution_count": 242,
   "id": "575c82d9-df4f-44b5-8112-fe52a7654894",
   "metadata": {},
   "outputs": [
    {
     "name": "stdout",
     "output_type": "stream",
     "text": [
      "  [1]    2    3    5    7   11   13   17   19   23   29   31   37   41   43   47\n",
      " [16]   53   59   61   67   71   73   79   83   89   97  101  103  107  109  113\n",
      " [31]  127  131  137  139  149  151  157  163  167  173  179  181  191  193  197\n",
      " [46]  199  211  223  227  229  233  239  241  251  257  263  269  271  277  281\n",
      " [61]  283  293  307  311  313  317  331  337  347  349  353  359  367  373  379\n",
      " [76]  383  389  397  401  409  419  421  431  433  439  443  449  457  461  463\n",
      " [91]  467  479  487  491  499  503  509  521  523  541  547  557  563  569  571\n",
      "[106]  577  587  593  599  601  607  613  617  619  631  641  643  647  653  659\n",
      "[121]  661  673  677  683  691  701  709  719  727  733  739  743  751  757  761\n",
      "[136]  769  773  787  797  809  811  821  823  827  829  839  853  857  859  863\n",
      "[151]  877  881  883  887  907  911  919  929  937  941  947  953  967  971  977\n",
      "[166]  983  991  997 1009 1013 1019 1021 1031 1033 1039 1049 1051 1061 1063 1069\n",
      "[181] 1087 1091 1093 1097 1103 1109 1117 1123 1129 1151 1153 1163 1171 1181 1187\n",
      "[196] 1193 1201 1213 1217 1223 1229 1231 1237 1249 1259 1277 1279 1283 1289 1291\n",
      "[211] 1297 1301 1303 1307 1319 1321 1327 1361 1367 1373 1381 1399 1409 1423 1427\n",
      "[226] 1429 1433 1439 1447 1451 1453 1459 1471 1481 1483 1487 1489 1493 1499 1511\n",
      "[241] 1523 1531 1543 1549 1553 1559 1567 1571 1579 1583 1597 1601 1607 1609 1613\n",
      "[256] 1619 1621 1627 1637 1657 1663 1667 1669 1693 1697 1699 1709 1721 1723 1733\n",
      "[271] 1741 1747 1753 1759 1777 1783 1787 1789 1801 1811 1823 1831 1847 1861 1867\n",
      "[286] 1871 1873 1877 1879 1889 1901 1907 1913 1931 1933 1949 1951 1973 1979 1987\n",
      "[301] 1993 1997 1999\n"
     ]
    }
   ],
   "source": [
    "n=length(primes)\n",
    "print(primes[-n])"
   ]
  },
  {
   "cell_type": "code",
   "execution_count": 243,
   "id": "25ddee5e-529c-4cbd-a3a3-6850fbcff6d6",
   "metadata": {},
   "outputs": [],
   "source": [
    "#part 3"
   ]
  },
  {
   "cell_type": "code",
   "execution_count": 244,
   "id": "b73698b8-a5fe-4f77-9de4-c860fc801fa6",
   "metadata": {},
   "outputs": [],
   "source": [
    "#primes[-1]-primes[-n] might give clused to what the twin primes are because this will essentially subtract consecutive primes. This helps us find the twin primes because when we subtract primes[-n] from primes[-1], we will get a vector of the differences between consecutive primes. If we get a 2, then we know that they are twin primes"
   ]
  },
  {
   "cell_type": "code",
   "execution_count": 245,
   "id": "1214774e-8d94-4deb-900e-582a989481af",
   "metadata": {},
   "outputs": [],
   "source": [
    "tp=(primes[-1]- primes[-n]==2)"
   ]
  },
  {
   "cell_type": "code",
   "execution_count": 246,
   "id": "623a2eb3-29e9-4805-8eba-7ac219f7aa25",
   "metadata": {},
   "outputs": [
    {
     "name": "stdout",
     "output_type": "stream",
     "text": [
      " [1]    3    5   11   17   29   41   59   71  101  107  137  149  179  191  197\n",
      "[16]  227  239  269  281  311  347  419  431  461  521  569  599  617  641  659\n",
      "[31]  809  821  827  857  881 1019 1031 1049 1061 1091 1151 1229 1277 1289 1301\n",
      "[46] 1319 1427 1451 1481 1487 1607 1619 1667 1697 1721 1787 1871 1877 1931 1949\n",
      "[61] 1997\n"
     ]
    }
   ],
   "source": [
    "twinprimes=primes[tp]\n",
    "print(twinprimes)"
   ]
  },
  {
   "cell_type": "code",
   "execution_count": 247,
   "id": "007fa31e-826f-4a34-9781-1321f572d6e8",
   "metadata": {},
   "outputs": [],
   "source": [
    "#1.23 For the data set treering, which contains tree-ring widths in dimension-less units, use an R function to answer the following:\n",
    "#1. How many observations are there?\n",
    "#2. Find the smallest observation.\n",
    "#3. Find the largest observation.\n",
    "#4. How many are bigger than 1.5?"
   ]
  },
  {
   "cell_type": "code",
   "execution_count": 248,
   "id": "7fde347b-10aa-4b7c-bba4-501c2fb8f744",
   "metadata": {},
   "outputs": [],
   "source": [
    "data(treering)"
   ]
  },
  {
   "cell_type": "code",
   "execution_count": 249,
   "id": "b2836ec0-cb55-4324-a6f9-9a03325e1d1d",
   "metadata": {},
   "outputs": [],
   "source": [
    "number_of_observations=length(treering)"
   ]
  },
  {
   "cell_type": "code",
   "execution_count": 250,
   "id": "7f4166cc-b351-4966-95df-a70f25762eca",
   "metadata": {},
   "outputs": [
    {
     "name": "stdout",
     "output_type": "stream",
     "text": [
      "Number of observations: 7980"
     ]
    }
   ],
   "source": [
    "cat(\"Number of observations:\",number_of_observations)"
   ]
  },
  {
   "cell_type": "code",
   "execution_count": 251,
   "id": "bb2ec45a-a6bf-4459-90e8-349016f5e3a9",
   "metadata": {},
   "outputs": [
    {
     "name": "stdout",
     "output_type": "stream",
     "text": [
      "smallest observation: 0"
     ]
    }
   ],
   "source": [
    "small_obs=min(treering)\n",
    "cat(\"smallest observation:\",small_obs)"
   ]
  },
  {
   "cell_type": "code",
   "execution_count": 252,
   "id": "0d7fb4a2-5b95-494b-8687-607b51cadb3a",
   "metadata": {},
   "outputs": [
    {
     "name": "stdout",
     "output_type": "stream",
     "text": [
      "largest observation: 1.908"
     ]
    }
   ],
   "source": [
    "larg_obs=max(treering)\n",
    "cat(\"largest observation:\",larg_obs)"
   ]
  },
  {
   "cell_type": "code",
   "execution_count": 253,
   "id": "9c351c11-8987-4932-a89b-46ebc478c69b",
   "metadata": {},
   "outputs": [
    {
     "name": "stdout",
     "output_type": "stream",
     "text": [
      "observation greater than 1.5: 219"
     ]
    }
   ],
   "source": [
    "greatherthan1.5=sum(treering>1.5)\n",
    "cat(\"observation greater than 1.5:\",greatherthan1.5)"
   ]
  },
  {
   "cell_type": "code",
   "execution_count": 254,
   "id": "269a8978-cdad-43ce-9b9b-36e3416e0887",
   "metadata": {},
   "outputs": [],
   "source": [
    "#1.24 The data set mandms (UsingR) contains the targeted color distribution in a bag of M&Ms as percentages for varies types of packaging. Answer these questions.\n",
    "#1. Which packaging is missing one of the six colors?\n",
    "#2. Which types of packaging have an equal distribution of colors?\n",
    "#3. Which packaging has a single color that is more likely than all the others? Whatcolor is this?"
   ]
  },
  {
   "cell_type": "code",
   "execution_count": 255,
   "id": "e7dda647-d3fd-48f0-9cb4-3e9bb7332f2c",
   "metadata": {},
   "outputs": [],
   "source": [
    "data(mandms)"
   ]
  },
  {
   "cell_type": "code",
   "execution_count": 256,
   "id": "c20c0047-25d8-4f19-883e-f57b5f4f5a82",
   "metadata": {},
   "outputs": [
    {
     "data": {
      "text/html": [
       "<table class=\"dataframe\">\n",
       "<caption>A data.frame: 5 × 6</caption>\n",
       "<thead>\n",
       "\t<tr><th></th><th scope=col>blue</th><th scope=col>brown</th><th scope=col>green</th><th scope=col>orange</th><th scope=col>red</th><th scope=col>yellow</th></tr>\n",
       "\t<tr><th></th><th scope=col>&lt;dbl&gt;</th><th scope=col>&lt;dbl&gt;</th><th scope=col>&lt;dbl&gt;</th><th scope=col>&lt;dbl&gt;</th><th scope=col>&lt;dbl&gt;</th><th scope=col>&lt;dbl&gt;</th></tr>\n",
       "</thead>\n",
       "<tbody>\n",
       "\t<tr><th scope=row>milk chocolate</th><td>10.0000</td><td>30.0000</td><td>10.0000</td><td>10.0000</td><td>20.0000</td><td>20.0000</td></tr>\n",
       "\t<tr><th scope=row>Peanut</th><td>20.0000</td><td>20.0000</td><td>10.0000</td><td>10.0000</td><td>20.0000</td><td>20.0000</td></tr>\n",
       "\t<tr><th scope=row>Peanut Butter</th><td>20.0000</td><td>20.0000</td><td>20.0000</td><td> 0.0000</td><td>20.0000</td><td>20.0000</td></tr>\n",
       "\t<tr><th scope=row>Almond</th><td>16.6667</td><td>16.6667</td><td>16.6667</td><td>16.6667</td><td>16.6667</td><td>16.6667</td></tr>\n",
       "\t<tr><th scope=row>kid minis</th><td>16.6667</td><td>16.6667</td><td>16.6667</td><td>16.6667</td><td>16.6667</td><td>16.6667</td></tr>\n",
       "</tbody>\n",
       "</table>\n"
      ],
      "text/latex": [
       "A data.frame: 5 × 6\n",
       "\\begin{tabular}{r|llllll}\n",
       "  & blue & brown & green & orange & red & yellow\\\\\n",
       "  & <dbl> & <dbl> & <dbl> & <dbl> & <dbl> & <dbl>\\\\\n",
       "\\hline\n",
       "\tmilk chocolate & 10.0000 & 30.0000 & 10.0000 & 10.0000 & 20.0000 & 20.0000\\\\\n",
       "\tPeanut & 20.0000 & 20.0000 & 10.0000 & 10.0000 & 20.0000 & 20.0000\\\\\n",
       "\tPeanut Butter & 20.0000 & 20.0000 & 20.0000 &  0.0000 & 20.0000 & 20.0000\\\\\n",
       "\tAlmond & 16.6667 & 16.6667 & 16.6667 & 16.6667 & 16.6667 & 16.6667\\\\\n",
       "\tkid minis & 16.6667 & 16.6667 & 16.6667 & 16.6667 & 16.6667 & 16.6667\\\\\n",
       "\\end{tabular}\n"
      ],
      "text/markdown": [
       "\n",
       "A data.frame: 5 × 6\n",
       "\n",
       "| <!--/--> | blue &lt;dbl&gt; | brown &lt;dbl&gt; | green &lt;dbl&gt; | orange &lt;dbl&gt; | red &lt;dbl&gt; | yellow &lt;dbl&gt; |\n",
       "|---|---|---|---|---|---|---|\n",
       "| milk chocolate | 10.0000 | 30.0000 | 10.0000 | 10.0000 | 20.0000 | 20.0000 |\n",
       "| Peanut | 20.0000 | 20.0000 | 10.0000 | 10.0000 | 20.0000 | 20.0000 |\n",
       "| Peanut Butter | 20.0000 | 20.0000 | 20.0000 |  0.0000 | 20.0000 | 20.0000 |\n",
       "| Almond | 16.6667 | 16.6667 | 16.6667 | 16.6667 | 16.6667 | 16.6667 |\n",
       "| kid minis | 16.6667 | 16.6667 | 16.6667 | 16.6667 | 16.6667 | 16.6667 |\n",
       "\n"
      ],
      "text/plain": [
       "               blue    brown   green   orange  red     yellow \n",
       "milk chocolate 10.0000 30.0000 10.0000 10.0000 20.0000 20.0000\n",
       "Peanut         20.0000 20.0000 10.0000 10.0000 20.0000 20.0000\n",
       "Peanut Butter  20.0000 20.0000 20.0000  0.0000 20.0000 20.0000\n",
       "Almond         16.6667 16.6667 16.6667 16.6667 16.6667 16.6667\n",
       "kid minis      16.6667 16.6667 16.6667 16.6667 16.6667 16.6667"
      ]
     },
     "metadata": {},
     "output_type": "display_data"
    }
   ],
   "source": [
    "head(mandms)"
   ]
  },
  {
   "cell_type": "code",
   "execution_count": 257,
   "id": "8be9d48c-8d2d-44db-98c9-1706f3e2cb5b",
   "metadata": {},
   "outputs": [],
   "source": [
    "#1"
   ]
  },
  {
   "cell_type": "code",
   "execution_count": 258,
   "id": "c27a33d3-445e-45b5-8898-335ed944d324",
   "metadata": {},
   "outputs": [
    {
     "name": "stdout",
     "output_type": "stream",
     "text": [
      "packaging is missing one of the six colors: Peanut Butter"
     ]
    }
   ],
   "source": [
    "mc=apply(mandms,1,function(row) any(row==0))\n",
    "missingcolor=rownames(mandms)[mc]\n",
    "cat(\"packaging is missing one of the six colors:\",missingcolor)"
   ]
  },
  {
   "cell_type": "code",
   "execution_count": 259,
   "id": "a653a994-3b05-4dca-9bf6-436d561439d6",
   "metadata": {},
   "outputs": [],
   "source": [
    "#2"
   ]
  },
  {
   "cell_type": "code",
   "execution_count": 260,
   "id": "fe1d4610-94e9-4734-97d2-12a3a31ddd57",
   "metadata": {},
   "outputs": [
    {
     "name": "stdout",
     "output_type": "stream",
     "text": [
      "packaging have an equal distribution of colors: Almond kid minis"
     ]
    }
   ],
   "source": [
    "eq=apply(mandms,1, function(row) all(row==row[1]))\n",
    "equaldistribution= rownames(mandms)[eq]\n",
    "cat(\"packaging have an equal distribution of colors:\",equaldistribution)"
   ]
  },
  {
   "cell_type": "code",
   "execution_count": 261,
   "id": "643a7a79-56de-44f1-b840-99e6b1621871",
   "metadata": {},
   "outputs": [],
   "source": [
    "#3"
   ]
  },
  {
   "cell_type": "code",
   "execution_count": 262,
   "id": "3d69ba3b-6a74-4470-945c-c2a6311e13e9",
   "metadata": {},
   "outputs": [
    {
     "name": "stdout",
     "output_type": "stream",
     "text": [
      "Packaging with a single color more likely than all the others and the dominant color: milk chocolate : brown"
     ]
    }
   ],
   "source": [
    "single_color_dominant= apply(mandms, 1, function(row) {\n",
    "  max_val= max(row)\n",
    "  sum(row == max_val) == 1 && max_val > max(row[row != max_val])\n",
    "})\n",
    "\n",
    "packaging_single_color_dominant = rownames(mandms)[single_color_dominant]\n",
    "\n",
    "dominant_colors = apply(mandms[packaging_single_color_dominant, , drop = FALSE], 1, function(row) {\n",
    "  names(row)[which.max(row)]\n",
    "})\n",
    "\n",
    "cat(\"Packaging with a single color more likely than all the others and the dominant color: \")\n",
    "for (i in 1:length(packaging_single_color_dominant)) {\n",
    "  cat(packaging_single_color_dominant[i], \":\", dominant_colors[i])\n",
    "}"
   ]
  },
  {
   "cell_type": "code",
   "execution_count": 263,
   "id": "4cddcb72-1a26-4056-a66c-ae8f6db672c4",
   "metadata": {},
   "outputs": [],
   "source": [
    "#1.25 The times variable in the data set nym. 2002 (UsingR) contains the time to finish for several participants in the 2002 New York City Marathon. Answer these questions.\n",
    "#1. How many times are stored in the data set?\n",
    "#2. What was the fastest time in minutes? Convert this into hours and minutes using R.\n",
    "#3. What was the slowest time in minutes? Convert this into hours and minutes using R"
   ]
  },
  {
   "cell_type": "code",
   "execution_count": 264,
   "id": "bba7cd35-3921-4d05-bf6e-44fa6ac6f5bf",
   "metadata": {},
   "outputs": [
    {
     "data": {
      "text/html": [
       "<style>\n",
       ".list-inline {list-style: none; margin:0; padding: 0}\n",
       ".list-inline>li {display: inline-block}\n",
       ".list-inline>li:not(:last-child)::after {content: \"\\00b7\"; padding: 0 .5ex}\n",
       "</style>\n",
       "<ol class=list-inline><li>217.483333333333</li><li>272.55</li><li>265.283333333333</li><li>256.15</li><li>252.25</li><li>201.966666666667</li></ol>\n"
      ],
      "text/latex": [
       "\\begin{enumerate*}\n",
       "\\item 217.483333333333\n",
       "\\item 272.55\n",
       "\\item 265.283333333333\n",
       "\\item 256.15\n",
       "\\item 252.25\n",
       "\\item 201.966666666667\n",
       "\\end{enumerate*}\n"
      ],
      "text/markdown": [
       "1. 217.483333333333\n",
       "2. 272.55\n",
       "3. 265.283333333333\n",
       "4. 256.15\n",
       "5. 252.25\n",
       "6. 201.966666666667\n",
       "\n",
       "\n"
      ],
      "text/plain": [
       "[1] 217.4833 272.5500 265.2833 256.1500 252.2500 201.9667"
      ]
     },
     "metadata": {},
     "output_type": "display_data"
    }
   ],
   "source": [
    "data(nym.2002)\n",
    "head(nym.2002$time)"
   ]
  },
  {
   "cell_type": "code",
   "execution_count": 265,
   "id": "15c7599d-acd1-44c1-8bc3-b9f237592b03",
   "metadata": {},
   "outputs": [],
   "source": [
    "#1"
   ]
  },
  {
   "cell_type": "code",
   "execution_count": 266,
   "id": "7707a61f-f2e5-45f2-9406-bbe1c74df127",
   "metadata": {},
   "outputs": [
    {
     "name": "stdout",
     "output_type": "stream",
     "text": [
      "Number of times stored in data set: 1000"
     ]
    }
   ],
   "source": [
    "numberoftimes=length(nym.2002$time)\n",
    "cat(\"Number of times stored in data set:\",numberoftimes)"
   ]
  },
  {
   "cell_type": "code",
   "execution_count": 267,
   "id": "48e49a93-1e52-4ca9-929b-2cedb5a4adc9",
   "metadata": {},
   "outputs": [],
   "source": [
    "#2"
   ]
  },
  {
   "cell_type": "code",
   "execution_count": 268,
   "id": "25d20234-42b4-4730-92a5-1b6efd8213fc",
   "metadata": {},
   "outputs": [
    {
     "name": "stdout",
     "output_type": "stream",
     "text": [
      "Fastest time in minutes: 147.3333"
     ]
    }
   ],
   "source": [
    "fastesttime=min(nym.2002$time)\n",
    "cat(\"Fastest time in minutes:\",fastesttime)"
   ]
  },
  {
   "cell_type": "code",
   "execution_count": 269,
   "id": "70ec9088-0dfa-4f47-92d7-b70535869466",
   "metadata": {},
   "outputs": [
    {
     "name": "stdout",
     "output_type": "stream",
     "text": [
      "Fastest time: 2 hours and 27.33333 minutes"
     ]
    }
   ],
   "source": [
    "fasthours=floor(fastesttime/60)\n",
    "fastmin=fastesttime %% 60\n",
    "cat(\"Fastest time:\",fasthours,\"hours and\",fastmin,\"minutes\")"
   ]
  },
  {
   "cell_type": "code",
   "execution_count": 270,
   "id": "50fb75ca-b515-4649-9373-3b45e278741d",
   "metadata": {},
   "outputs": [],
   "source": [
    "#3"
   ]
  },
  {
   "cell_type": "code",
   "execution_count": 271,
   "id": "12bd2823-491e-4937-9af3-3b1b0b7ecf9c",
   "metadata": {},
   "outputs": [
    {
     "name": "stdout",
     "output_type": "stream",
     "text": [
      "Slowest time in minutes: 566.7833"
     ]
    }
   ],
   "source": [
    "slowesttime=max(nym.2002$time)\n",
    "cat(\"Slowest time in minutes:\",slowesttime)"
   ]
  },
  {
   "cell_type": "code",
   "execution_count": 272,
   "id": "c9285f93-9893-4043-9eb5-72266cc5250f",
   "metadata": {},
   "outputs": [
    {
     "name": "stdout",
     "output_type": "stream",
     "text": [
      "Slowest time: 9 hours and 26.78333 minutes"
     ]
    }
   ],
   "source": [
    "slowhours=floor(slowesttime/60)\n",
    "slowmin=slowesttime %% 60\n",
    "cat(\"Slowest time:\",slowhours,\"hours and\", slowmin,\"minutes\")"
   ]
  },
  {
   "cell_type": "code",
   "execution_count": 273,
   "id": "9e5166d0-11af-4ad8-8849-872492a91d03",
   "metadata": {},
   "outputs": [],
   "source": [
    "#For the data set rivers, which is the longest river? The shortest?"
   ]
  },
  {
   "cell_type": "code",
   "execution_count": 274,
   "id": "514ded76-7662-4312-85c7-68982d0ebe3f",
   "metadata": {},
   "outputs": [],
   "source": [
    "data(rivers)"
   ]
  },
  {
   "cell_type": "code",
   "execution_count": 275,
   "id": "ba37d78b-9c66-4730-bc04-da2b57c27fa8",
   "metadata": {},
   "outputs": [
    {
     "name": "stdout",
     "output_type": "stream",
     "text": [
      "The longest river is 3710 miles"
     ]
    }
   ],
   "source": [
    "longestriver=max(rivers)\n",
    "cat(\"The longest river is\",longestriver,\"miles\")"
   ]
  },
  {
   "cell_type": "code",
   "execution_count": 276,
   "id": "bb8ebb87-c2b9-478a-b7f4-4ef50d22410e",
   "metadata": {},
   "outputs": [
    {
     "name": "stdout",
     "output_type": "stream",
     "text": [
      "The shortest river is: 135 miles"
     ]
    }
   ],
   "source": [
    "shortestriver=min(rivers)\n",
    "cat(\"The shortest river is:\", shortestriver,\"miles\")"
   ]
  },
  {
   "cell_type": "code",
   "execution_count": 277,
   "id": "d734f8d0-a59e-4d77-83af-197f99212a4c",
   "metadata": {},
   "outputs": [],
   "source": [
    "#1.27 The data set uspop contains decade-by-decade population figures for the United States from 1790 to 1970.\n",
    "#1. Use names() and seq() to add the year names to the data vector.\n",
    "#2. Use diff() to find the inter-decade differences. Which decade had the greatest increase?\n",
    "#3. Explain why you could reasonably expect that the difference will always increase with each decade. Is this the case with the data?\n"
   ]
  },
  {
   "cell_type": "code",
   "execution_count": 278,
   "id": "b8584d3e-fc28-4c43-a230-ff1ac79caf25",
   "metadata": {},
   "outputs": [],
   "source": [
    "#1"
   ]
  },
  {
   "cell_type": "code",
   "execution_count": 279,
   "id": "513bbb86-4a82-43fa-91a3-b344925ed6a4",
   "metadata": {},
   "outputs": [],
   "source": [
    "data(uspop)"
   ]
  },
  {
   "cell_type": "code",
   "execution_count": 280,
   "id": "a9a486be-d856-47d1-bf32-05188d23b029",
   "metadata": {},
   "outputs": [
    {
     "name": "stdout",
     "output_type": "stream",
     "text": [
      "Time Series:\n",
      "Start = 1790 \n",
      "End = 1970 \n",
      "Frequency = 0.1 \n",
      "  1790   1800   1810   1820   1830   1840   1850   1860   1870   1880   1890 \n",
      "  3.93   5.31   7.24   9.64  12.90  17.10  23.20  31.40  39.80  50.20  62.90 \n",
      "  1900   1910   1920   1930   1940   1950   1960   1970 \n",
      " 76.00  92.00 105.70 122.80 131.70 151.30 179.30 203.20 \n"
     ]
    }
   ],
   "source": [
    "years=seq(1790,1970, by=10)\n",
    "names(uspop)=years\n",
    "print(uspop)"
   ]
  },
  {
   "cell_type": "code",
   "execution_count": 281,
   "id": "7fe1fd17-d3ee-41ef-b0af-b73e3c3d517c",
   "metadata": {},
   "outputs": [],
   "source": [
    "#2"
   ]
  },
  {
   "cell_type": "code",
   "execution_count": 282,
   "id": "a2fb22f6-2aa4-4f76-8bdd-98c835c59a13",
   "metadata": {},
   "outputs": [
    {
     "name": "stdout",
     "output_type": "stream",
     "text": [
      "Time Series:\n",
      "Start = 1800 \n",
      "End = 1970 \n",
      "Frequency = 0.1 \n",
      "1790-1800 1800-1810 1810-1820 1820-1830 1830-1840 1840-1850 1850-1860 1860-1870 \n",
      "     1.38      1.93      2.40      3.26      4.20      6.10      8.20      8.40 \n",
      "1870-1880 1880-1890 1890-1900 1900-1910 1910-1920 1920-1930 1930-1940 1940-1950 \n",
      "    10.40     12.70     13.10     16.00     13.70     17.10      8.90     19.60 \n",
      "1950-1960 1960-1970 \n",
      "    28.00     23.90 \n"
     ]
    }
   ],
   "source": [
    "pop_differences=diff(uspop)\n",
    "names(pop_differences)=paste(years[-length(years)],years[-1],sep=\"-\")\n",
    "print(pop_differences)"
   ]
  },
  {
   "cell_type": "code",
   "execution_count": 283,
   "id": "cd483a68-8760-42b5-9c55-64e5c43b3e60",
   "metadata": {},
   "outputs": [
    {
     "name": "stdout",
     "output_type": "stream",
     "text": [
      "The decade with the greatest increase: 1950-1960"
     ]
    }
   ],
   "source": [
    "greatestincrease=names(pop_differences)[which.max(pop_differences)]\n",
    "cat(\"The decade with the greatest increase:\",greatestincrease)"
   ]
  },
  {
   "cell_type": "code",
   "execution_count": 284,
   "id": "24061899-375f-41e2-921c-02e8c517ea10",
   "metadata": {},
   "outputs": [],
   "source": [
    "#3"
   ]
  },
  {
   "cell_type": "code",
   "execution_count": 285,
   "id": "580f414d-2715-4e99-a8e9-26a17dea3cf9",
   "metadata": {},
   "outputs": [],
   "source": [
    "#Typically we would expect an increasing difference with each decade because of natural population growth, more immigrants, and advancements in healthcare that prolong living.  "
   ]
  }
 ],
 "metadata": {
  "kernelspec": {
   "display_name": "R",
   "language": "R",
   "name": "ir"
  },
  "language_info": {
   "codemirror_mode": "r",
   "file_extension": ".r",
   "mimetype": "text/x-r-source",
   "name": "R",
   "pygments_lexer": "r",
   "version": "4.4.0"
  }
 },
 "nbformat": 4,
 "nbformat_minor": 5
}
